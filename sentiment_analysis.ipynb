{
  "nbformat": 4,
  "nbformat_minor": 0,
  "metadata": {
    "colab": {
      "name": "sentiment_analysis.ipynb",
      "provenance": [],
      "collapsed_sections": [],
      "authorship_tag": "ABX9TyM7b4iHxerTT9yIvpAMM6rm",
      "include_colab_link": true
    },
    "kernelspec": {
      "name": "python3",
      "display_name": "Python 3"
    },
    "language_info": {
      "name": "python"
    }
  },
  "cells": [
    {
      "cell_type": "markdown",
      "metadata": {
        "id": "view-in-github",
        "colab_type": "text"
      },
      "source": [
        "<a href=\"https://colab.research.google.com/github/meheer-shukla/sentiment-analysis/blob/main/sentiment_analysis.ipynb\" target=\"_parent\"><img src=\"https://colab.research.google.com/assets/colab-badge.svg\" alt=\"Open In Colab\"/></a>"
      ]
    },
    {
      "cell_type": "code",
      "source": [
        "from google.colab import drive\n",
        "drive.mount('/content/drive')"
      ],
      "metadata": {
        "colab": {
          "base_uri": "https://localhost:8080/"
        },
        "id": "BpDCZgkrQ4yW",
        "outputId": "f92b5c36-1c70-4090-96e0-75d195ebb50e"
      },
      "execution_count": 23,
      "outputs": [
        {
          "output_type": "stream",
          "name": "stdout",
          "text": [
            "Drive already mounted at /content/drive; to attempt to forcibly remount, call drive.mount(\"/content/drive\", force_remount=True).\n"
          ]
        }
      ]
    },
    {
      "cell_type": "code",
      "source": [
        "import random as r \n",
        "class Sentiment:\n",
        "  NEGATIVE = \"NEGATIVE\"\n",
        "  NEUTRAL = \"NEUTRAL\"\n",
        "  POSITIVE = \"POSITIVE\"\n",
        "class Review:\n",
        "  def __init__(self ,text , score):\n",
        "    self.text = text\n",
        "    self.score = score\n",
        "    self.sentiment = self.get_sentiment()\n",
        "  def get_sentiment(self):\n",
        "    if self.score <= 2 :\n",
        "      return Sentiment.NEGATIVE\n",
        "    elif self.score == 3:\n",
        "      return Sentiment.NEUTRAL\n",
        "    else:\n",
        "      return Sentiment.POSITIVE\n",
        "class ReviewContainer :\n",
        "  def __init__(self , reviews) :\n",
        "    self.reviews = reviews\n",
        "  \n",
        "  def get_text(self):\n",
        "    return [x.text for x in self.reviews] \n",
        "  \n",
        "  def get_sentiment(self):\n",
        "    return[x.sentiment for x in self.reviews]\n",
        "  \n",
        "  def evenly_distribute(self):\n",
        "    negative = list(filter(lambda x: x.sentiment == Sentiment.NEGATIVE, self.reviews))\n",
        "    positive = list(filter(lambda x: x.sentiment == Sentiment.POSITIVE, self.reviews))\n",
        "    positive_shrunk = positive[:len(negative)]\n",
        "    self.reviews = negative + positive_shrunk \n",
        "    r.shuffle(self.reviews)"
      ],
      "metadata": {
        "id": "z6JYMEPJtjeo"
      },
      "execution_count": 36,
      "outputs": []
    },
    {
      "cell_type": "code",
      "source": [
        "\n",
        "import json \n",
        "filename = '/content/drive/MyDrive/Learning Data/Books_small_10000.json'\n",
        "\n",
        "reviews = []\n",
        "\n",
        "with open(filename) as f:\n",
        "  for line in f:\n",
        "    review = json.loads(line)\n",
        "    reviews.append(Review(review['reviewText'],review['overall']))\n",
        "reviews[5].sentiment\n"
      ],
      "metadata": {
        "colab": {
          "base_uri": "https://localhost:8080/",
          "height": 36
        },
        "id": "vOcYecH-ReXv",
        "outputId": "65401ebb-7534-4c60-bf5c-af1335b93699"
      },
      "execution_count": 25,
      "outputs": [
        {
          "output_type": "execute_result",
          "data": {
            "application/vnd.google.colaboratory.intrinsic+json": {
              "type": "string"
            },
            "text/plain": [
              "'POSITIVE'"
            ]
          },
          "metadata": {},
          "execution_count": 25
        }
      ]
    },
    {
      "cell_type": "code",
      "source": [
        "from sklearn.model_selection import train_test_split\n",
        "\n",
        "training , test = train_test_split(reviews , test_size=0.33 , random_state=42)\n",
        "\n",
        "train_container = ReviewContainer(training)\n",
        "\n",
        "test_container = ReviewContainer(test)\n"
      ],
      "metadata": {
        "id": "KfYHT0ohxG-Z"
      },
      "execution_count": 37,
      "outputs": []
    },
    {
      "cell_type": "code",
      "source": [
        "train_container.evenly_distribute()\n",
        "train_x = train_container.get_text()\n",
        "train_y = train_container.get_sentiment()\n",
        "\n",
        "\n",
        "test_container.evenly_distribute()\n",
        "test_x = test_container.get_text()\n",
        "test_y = test_container.get_sentiment()\n",
        "\n",
        "\n",
        "\n",
        "train_y.count(Sentiment.POSITIVE)\n",
        "train_y.count(Sentiment.NEGATIVE)"
      ],
      "metadata": {
        "id": "XeeEzRlVyAkw",
        "colab": {
          "base_uri": "https://localhost:8080/"
        },
        "outputId": "dea501db-73a5-4e3f-9e2e-9f821f8e88c3"
      },
      "execution_count": 66,
      "outputs": [
        {
          "output_type": "execute_result",
          "data": {
            "text/plain": [
              "436"
            ]
          },
          "metadata": {},
          "execution_count": 66
        }
      ]
    },
    {
      "cell_type": "markdown",
      "source": [
        "BAG OF WORDS"
      ],
      "metadata": {
        "id": "j8G9NEhUzJYo"
      }
    },
    {
      "cell_type": "code",
      "source": [
        "from sklearn.feature_extraction.text import CountVectorizer\n",
        "vectorizer = CountVectorizer()\n",
        "train_x_vectors = vectorizer.fit_transform(train_x)\n",
        "test_x_vectors = vectorizer.transform(test_x)\n",
        "\n",
        "print(train_x[0])\n",
        "print(train_x_vectors[0].toarray())\n"
      ],
      "metadata": {
        "colab": {
          "base_uri": "https://localhost:8080/"
        },
        "id": "9v0G0dfrzK6H",
        "outputId": "937b02a9-683b-4c8c-daed-7722686cb754"
      },
      "execution_count": 67,
      "outputs": [
        {
          "output_type": "stream",
          "name": "stdout",
          "text": [
            "The book was delivered on time and in an excellent condition.  For anyone who wants to read supporting argument for Islamic thinking, this book is very helpful to make one see what others see from the way society should be.\n",
            "[[0 0 0 ... 0 0 0]]\n"
          ]
        }
      ]
    },
    {
      "cell_type": "markdown",
      "source": [
        "CLASSIFICATION"
      ],
      "metadata": {
        "id": "_gR_4LfNnblp"
      }
    },
    {
      "cell_type": "code",
      "source": [
        "from sklearn import svm\n",
        "\n",
        "clf_svm = svm.SVC(kernel = 'linear')  \n",
        "\n",
        "clf_svm.fit(train_x_vectors , train_y)\n",
        "\n",
        "test_x[0]\n",
        "\n",
        "clf_svm.predict(test_x_vectors[0])"
      ],
      "metadata": {
        "colab": {
          "base_uri": "https://localhost:8080/"
        },
        "id": "m6raUvWind-L",
        "outputId": "067aff16-bb2c-44a0-f414-b4f413a9692e"
      },
      "execution_count": 68,
      "outputs": [
        {
          "output_type": "execute_result",
          "data": {
            "text/plain": [
              "array(['POSITIVE'], dtype='<U8')"
            ]
          },
          "metadata": {},
          "execution_count": 68
        }
      ]
    },
    {
      "cell_type": "code",
      "source": [
        "from sklearn.tree import DecisionTreeClassifier\n",
        "\n",
        "clf_dec = DecisionTreeClassifier()\n",
        "\n",
        "clf_dec.fit(train_x_vectors , train_y)\n",
        "\n",
        "clf_dec.predict(test_x_vectors[0])"
      ],
      "metadata": {
        "colab": {
          "base_uri": "https://localhost:8080/"
        },
        "id": "d_IQVnbkr9d5",
        "outputId": "50a0a5cc-2abe-4bc8-d812-844f58a0b618"
      },
      "execution_count": 69,
      "outputs": [
        {
          "output_type": "execute_result",
          "data": {
            "text/plain": [
              "array(['POSITIVE'], dtype='<U8')"
            ]
          },
          "metadata": {},
          "execution_count": 69
        }
      ]
    },
    {
      "cell_type": "code",
      "source": [
        "from sklearn.linear_model import LogisticRegression\n",
        "\n",
        "clf_log = LogisticRegression()\n",
        "clf_log.fit(train_x_vectors , train_y)\n",
        "\n",
        "clf_log.predict(test_x_vectors[0])"
      ],
      "metadata": {
        "colab": {
          "base_uri": "https://localhost:8080/"
        },
        "id": "X0ZQYnBu1hbO",
        "outputId": "218e7270-8b13-4d10-d63a-596905b54c26"
      },
      "execution_count": 70,
      "outputs": [
        {
          "output_type": "execute_result",
          "data": {
            "text/plain": [
              "array(['POSITIVE'], dtype='<U8')"
            ]
          },
          "metadata": {},
          "execution_count": 70
        }
      ]
    },
    {
      "cell_type": "code",
      "source": [
        "print(clf_log.score(test_x_vectors, test_y) * 100)"
      ],
      "metadata": {
        "colab": {
          "base_uri": "https://localhost:8080/"
        },
        "id": "Lz0kx0_vunsT",
        "outputId": "6d47090f-1a4a-4f28-e5cc-75c4008efffd"
      },
      "execution_count": 74,
      "outputs": [
        {
          "output_type": "stream",
          "name": "stdout",
          "text": [
            "81.49038461538461\n"
          ]
        }
      ]
    },
    {
      "cell_type": "code",
      "source": [
        "from sklearn.metrics import f1_score\n",
        "f1_score(test_y , clf_log.predict(test_x_vectors), average = None, labels = [Sentiment.POSITIVE , Sentiment.NEGATIVE])"
      ],
      "metadata": {
        "colab": {
          "base_uri": "https://localhost:8080/"
        },
        "id": "tyFb_8T9wSpq",
        "outputId": "3d48ec11-0a38-46fb-89b5-225e268e6935"
      },
      "execution_count": 75,
      "outputs": [
        {
          "output_type": "execute_result",
          "data": {
            "text/plain": [
              "array([0.82051282, 0.808933  ])"
            ]
          },
          "metadata": {},
          "execution_count": 75
        }
      ]
    },
    {
      "cell_type": "code",
      "source": [
        "test_set = ['i loved it ' , 'i hated it' , 'this product is bad' , 'this product is amazing']\n",
        "new_test = vectorizer.transform(test_set)\n",
        "\n",
        "clf_log.predict(new_test)"
      ],
      "metadata": {
        "colab": {
          "base_uri": "https://localhost:8080/"
        },
        "id": "5uYondI_YR3E",
        "outputId": "71ce9fc5-87a6-48ff-fd5a-e32a8bc79178"
      },
      "execution_count": 78,
      "outputs": [
        {
          "output_type": "execute_result",
          "data": {
            "text/plain": [
              "array(['POSITIVE', 'NEGATIVE', 'NEGATIVE', 'POSITIVE'], dtype='<U8')"
            ]
          },
          "metadata": {},
          "execution_count": 78
        }
      ]
    }
  ]
}